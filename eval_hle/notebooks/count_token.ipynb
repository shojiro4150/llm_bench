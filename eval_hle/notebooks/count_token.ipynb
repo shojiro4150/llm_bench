{
 "cells": [
  {
   "cell_type": "code",
   "execution_count": null,
   "id": "fd2f9e1e",
   "metadata": {},
   "outputs": [],
   "source": [
    "import json"
   ]
  },
  {
   "cell_type": "code",
   "execution_count": null,
   "id": "481e5b11",
   "metadata": {},
   "outputs": [],
   "source": [
    "with open(\"../judged/judged_hle_o4-mini-2025-04-16.json\") as f:\n",
    "    data = json.load(f)"
   ]
  },
  {
   "cell_type": "code",
   "execution_count": null,
   "id": "eba25274",
   "metadata": {},
   "outputs": [],
   "source": [
    "new_data = []\n",
    "for k, v in zip(data.keys(), data.values()):\n",
    "    v[\"question_id\"] = k\n",
    "    new_data.append(v)"
   ]
  },
  {
   "cell_type": "code",
   "execution_count": null,
   "id": "0de8f11b",
   "metadata": {},
   "outputs": [],
   "source": [
    "total_tokens = []\n",
    "prompt_tokens = []\n",
    "reasoning_tokens = []\n",
    "\n",
    "for d in new_data:\n",
    "    total_tokens.append(d[\"usage\"][\"total_tokens\"])\n",
    "    prompt_tokens.append(d[\"usage\"][\"prompt_tokens\"])\n",
    "    reasoning_tokens.append(d[\"usage\"][\"completion_tokens_details\"][\"reasoning_tokens\"])\n",
    "\n",
    "total_token = sum(total_tokens)\n",
    "prompt_token = sum(prompt_tokens)\n",
    "reasoning_token = sum(reasoning_tokens)"
   ]
  },
  {
   "cell_type": "code",
   "execution_count": null,
   "id": "a2ea1bda",
   "metadata": {},
   "outputs": [],
   "source": [
    "import matplotlib.pyplot as plt\n",
    "plt.hist(total_tokens)\n",
    "plt.show()\n",
    "print(max(total_tokens))"
   ]
  },
  {
   "cell_type": "code",
   "execution_count": null,
   "id": "cc93e7fb",
   "metadata": {},
   "outputs": [],
   "source": [
    "print(f\"n_question: {len(new_data)}\")\n",
    "print(f\"total_token: {total_token:,}\")\n",
    "print(f\"prompt_token: {prompt_token:,}\")\n",
    "print(f\"reasoning_token: {reasoning_token:,}\")\n",
    "print(f\"answer_token: {(total_token - prompt_token - reasoning_token):,}\")"
   ]
  }
 ],
 "metadata": {
  "kernelspec": {
   "display_name": "venv",
   "language": "python",
   "name": "python3"
  },
  "language_info": {
   "codemirror_mode": {
    "name": "ipython",
    "version": 3
   },
   "file_extension": ".py",
   "mimetype": "text/x-python",
   "name": "python",
   "nbconvert_exporter": "python",
   "pygments_lexer": "ipython3",
   "version": "3.12.9"
  }
 },
 "nbformat": 4,
 "nbformat_minor": 5
}
